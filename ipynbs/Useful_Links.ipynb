{
 "metadata": {
  "name": "Useful_Links"
 },
 "nbformat": 3,
 "nbformat_minor": 0,
 "worksheets": [
  {
   "cells": [
    {
     "cell_type": "markdown",
     "metadata": {},
     "source": [
      "<h1>Mining The Social Web</h1>\n",
      "1. [Mining The Social Web Errata](http://oreilly.com/catalog/errata.csp?isbn=0636920010203)"
     ]
    },
    {
     "cell_type": "markdown",
     "metadata": {},
     "source": [
      "<h1>Twitter URLS</h1>\n",
      "1. [Twitter DEV Document Index](https://dev.twitter.com/docs)\n",
      "2. [Twitter API Programming Language Wrapper Libs](https://dev.twitter.com/docs/twitter-libraries)"
     ]
    },
    {
     "cell_type": "markdown",
     "metadata": {},
     "source": [
      "<h2>Web Development</h2>\n",
      "\n",
      "1. [Microformats Examples](http://microformats.org/wiki/examples-in-the-wild)"
     ]
    },
    {
     "cell_type": "markdown",
     "metadata": {},
     "source": [
      "<h2>NLP</h2>\n",
      "\n",
      "1. [Friend of a Friend Ontology](http://www.foaf-project.org/)"
     ]
    },
    {
     "cell_type": "code",
     "collapsed": false,
     "input": [],
     "language": "python",
     "metadata": {},
     "outputs": []
    }
   ],
   "metadata": {}
  }
 ]
}