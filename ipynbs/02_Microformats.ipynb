{
 "metadata": {
  "name": "02_Microformats"
 },
 "nbformat": 3,
 "nbformat_minor": 0,
 "worksheets": [
  {
   "cells": [
    {
     "cell_type": "markdown",
     "metadata": {},
     "source": [
      "<h1>Microformats</h1>\n",
      "Microformats: a mechanism for embedding \"smarter data\" into web pages, i.e. conventions for unambiguously including structured data into web pages. The text covers examples using \n",
      "\n",
      "+ [XFN](http://gmpg.org/xfn/)\n",
      "+ [geo](http://microformats.org/wiki/geo)\n",
      "+ [hReview](http://microformats.org/wiki/hReview)\n",
      "+ [hRecipe](http://microformats.org/wiki/hRecipe)"
     ]
    },
    {
     "cell_type": "markdown",
     "metadata": {},
     "source": [
      "<h1>Finding Person-2-Person Relations From XFN</h1>\n",
      "<h2> Example 2-2 page 24</h2>\n",
      "The code for this example is in text/python_code/microformats__xfn_scrape.py.\n",
      "\n",
      "This example scrapes a given URL for XFN (XHTML Friends Network) markup."
     ]
    },
    {
     "cell_type": "code",
     "collapsed": false,
     "input": [
      "import sys\n",
      "import subprocess\n",
      "\n",
      "from subprocess import Popen, PIPE, STDOUT\n",
      "\n",
      "def run_script(script, path='../text/python_code', arglist=[]):\n",
      "    args=''.join(['{0} '.format(arg) for arg in arglist])\n",
      "    cmd = 'python {0}/{1} {2}'.format(path, script, args)\n",
      "    p = Popen(cmd, shell=True, stdin=PIPE, stdout=PIPE, stderr=STDOUT, close_fds=True)\n",
      "    print p.stdout.read()"
     ],
     "language": "python",
     "metadata": {},
     "outputs": [],
     "prompt_number": 12
    },
    {
     "cell_type": "code",
     "collapsed": false,
     "input": [
      "run_script(script='microformats__xfn_scrape.py', arglist=['http://ajaxian.com/'])"
     ],
     "language": "python",
     "metadata": {},
     "outputs": [
      {
       "output_type": "stream",
       "stream": "stdout",
       "text": [
        "Dion Almaer http://www.almaer.com/blog/ [u'me']\n",
        "Ben Galbraith http://weblogs.java.net/blog/javaben/ [u'co-worker']\n",
        "Rey Bango http://reybango.com/ [u'friend']\n",
        "Michael Mahemoff http://softwareas.com/ [u'friend']\n",
        "Chris Cornutt http://blog.phpdeveloper.org/ [u'friend']\n",
        "Rob Sanheim http://www.robsanheim.com/ [u'friend']\n",
        "Dietrich Kappe http://blogs.pathf.com/agileajax/ [u'friend']\n",
        "Chris Heilmann http://wait-till-i.com/ [u'friend']\n",
        "Brad Neuberg http://codinginparadise.org/about/ [u'friend']\n",
        "\n"
       ]
      }
     ],
     "prompt_number": 15
    },
    {
     "cell_type": "markdown",
     "metadata": {},
     "source": [
      "<h2>Example 2-4 page 26</h2>\n",
      "The code for this example is in text/python_code/microformats__xfn_crawl.py\n",
      "\n",
      "This example extends the previous one by adding a **breadth-first search** to follow the links to build out a **social graph**."
     ]
    },
    {
     "cell_type": "code",
     "collapsed": false,
     "input": [
      "max_depth = 2 #depth of crawl\n",
      "run_script(script='microformats__xfn_crawl.py', arglist=['http://ajaxian.com/', max_depth])\n",
      "subprocess.call(['mv','out/graph.dot','output/example_2_4.out'])\n",
      "subprocess.call([\"circo\", \"-Tpng\", \"-Oexample_2_4\", \"output/example_2_4.out\"])\n",
      "subprocess.call(['rm','-rf','out'])"
     ],
     "language": "python",
     "metadata": {},
     "outputs": [
      {
       "output_type": "stream",
       "stream": "stdout",
       "text": [
        "Failed to fetch http://weblogs.java.net/blog/javaben/\n",
        "Failed to fetch http://blogs.pathf.com/agileajax/\n",
        "\n"
       ]
      },
      {
       "output_type": "pyout",
       "prompt_number": 23,
       "text": [
        "0"
       ]
      }
     ],
     "prompt_number": 23
    },
    {
     "cell_type": "code",
     "collapsed": false,
     "input": [],
     "language": "python",
     "metadata": {},
     "outputs": []
    }
   ],
   "metadata": {}
  }
 ]
}