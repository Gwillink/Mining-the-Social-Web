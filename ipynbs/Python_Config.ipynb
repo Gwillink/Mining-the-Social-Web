{
 "metadata": {
  "name": "Python_Config"
 },
 "nbformat": 3,
 "nbformat_minor": 0,
 "worksheets": [
  {
   "cells": [
    {
     "cell_type": "markdown",
     "metadata": {},
     "source": [
      "<h1>Installed System & Python Packages</h1>\n",
      "<h2>BeautifulSoup</h2>\n",
      "sudo pip install BeautifulSoup\n",
      "<h2>GraphViz</h2>\n",
      "sudo apt-get install graphviz graphviz-dev pkg-config<br/>\n",
      "sudo pip install pygraphviz<br/>\n",
      "<h2>pip</h2>\n",
      "sudo apt-get install python-pip python-dev build-essential</br/>\n",
      "sudo pip install --upgrade pip\n",
      "<h2>networkx</h2>\n",
      "sudo pip install networkx\n",
      "<h2>NLTK</h2>\n",
      "sudo pip install nltk</br/>\n",
      "yes it was that easy on Ubuntu\n",
      "<h2>numpy</h2>\n",
      "sudo pip install numpy\n",
      "<h2>twitter</h2>\n",
      "sudo pip install twitter "
     ]
    },
    {
     "cell_type": "code",
     "collapsed": false,
     "input": [],
     "language": "python",
     "metadata": {},
     "outputs": []
    }
   ],
   "metadata": {}
  }
 ]
}